{
 "cells": [
  {
   "cell_type": "code",
   "execution_count": null,
   "metadata": {},
   "outputs": [],
   "source": [
    "%matplotlib inline\n",
    "import matplotlib\n",
    "import matplotlib.pyplot as plt\n",
    "import warnings \n",
    "warnings.filterwarnings('ignore')\n",
    "\n",
    "from mocpy import MOC"
   ]
  },
  {
   "cell_type": "markdown",
   "metadata": {},
   "source": [
    "First, we retrieve the MOC for VizieR table VIII/84/7c"
   ]
  },
  {
   "cell_type": "code",
   "execution_count": null,
   "metadata": {},
   "outputs": [],
   "source": [
    "moc = MOC.from_vizier_table('VIII/84/7c', nside=64)"
   ]
  },
  {
   "cell_type": "code",
   "execution_count": null,
   "metadata": {},
   "outputs": [],
   "source": [
    "# Plot\n",
    "def plot(moc, wcs, title=''):\n",
    "    import matplotlib.pyplot as plt\n",
    "    fig, ax = plt.subplots(1, 1, figsize=(10, 10), subplot_kw={\"projection\": wcs})\n",
    "    moc.fill(ax=ax, wcs=wcs, alpha=0.5, fill=True, color='r')\n",
    "\n",
    "    plt.axis('equal')\n",
    "    plt.xlabel('ra')\n",
    "    plt.ylabel('dec')\n",
    "    if title:\n",
    "        plt.title(title)\n",
    "    plt.grid(color=\"black\", linestyle=\"dotted\")\n",
    "    plt.show()\n",
    "\n",
    "# Init a celestial WCS \n",
    "from mocpy.utils import make_wcs\n",
    "wcs_icrs = make_wcs(crpix=[0, 0], crval=[0, 0], cdelt=[-5, 5], ctype=[\"RA---AIT\", \"DEC--AIT\"])"
   ]
  },
  {
   "cell_type": "code",
   "execution_count": null,
   "metadata": {},
   "outputs": [],
   "source": [
    "plot(moc=moc, wcs=wcs_icrs, title='VIII/84/7c')"
   ]
  },
  {
   "cell_type": "markdown",
   "metadata": {},
   "source": [
    "Then, we query Hipparcos catalogue to get all sources in the MOC coverage"
   ]
  },
  {
   "cell_type": "code",
   "execution_count": null,
   "metadata": {},
   "outputs": [],
   "source": [
    "#table = moc.query_simbad(10000)\n",
    "table = moc.query_vizier_table('I/239/hip_main', max_rows=100000)\n",
    "print(table)"
   ]
  },
  {
   "cell_type": "markdown",
   "metadata": {},
   "source": [
    "Finally, we plot the positions of the sources in the table to check if they lie in the MOC coverage"
   ]
  },
  {
   "cell_type": "code",
   "execution_count": null,
   "metadata": {},
   "outputs": [],
   "source": [
    "moc_table = MOC.from_lonlat(table['_RAJ2000'], table['_DEJ2000'], 7)\n",
    "plot(moc=moc_table, wcs=wcs_icrs, title='VIII/84/7c')"
   ]
  }
 ],
 "metadata": {
  "kernelspec": {
   "display_name": "Python 3",
   "language": "python",
   "name": "python3"
  },
  "language_info": {
   "codemirror_mode": {
    "name": "ipython",
    "version": 3
   },
   "file_extension": ".py",
   "mimetype": "text/x-python",
   "name": "python",
   "nbconvert_exporter": "python",
   "pygments_lexer": "ipython3",
   "version": "3.5.2"
  }
 },
 "nbformat": 4,
 "nbformat_minor": 1
}
