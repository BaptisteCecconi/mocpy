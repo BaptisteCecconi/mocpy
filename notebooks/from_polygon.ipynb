{
 "cells": [
  {
   "cell_type": "code",
   "execution_count": null,
   "metadata": {},
   "outputs": [],
   "source": [
    "from mocpy import MOC\n",
    "import numpy as np\n",
    "\n",
    "from astropy import units as u\n",
    "from astropy.coordinates import SkyCoord\n",
    "\n",
    "%matplotlib inline"
   ]
  },
  {
   "cell_type": "code",
   "execution_count": null,
   "metadata": {},
   "outputs": [],
   "source": [
    "# Plot the polygon vertices on a matplotlib axis\n",
    "def plot_graph(vertices):\n",
    "    import matplotlib.pyplot as plt\n",
    "    from matplotlib import path, patches\n",
    "    \n",
    "    fig = plt.figure()\n",
    "    ax = fig.add_subplot(111)\n",
    "    p = path.Path(vertices)\n",
    "    patch = patches.PathPatch(p, facecolor='orange', lw=2)\n",
    "    ax.add_patch(patch)"
   ]
  },
  {
   "cell_type": "code",
   "execution_count": null,
   "metadata": {},
   "outputs": [],
   "source": [
    "# Methods for defining random polygons\n",
    "def generate_rand_polygon(num_points):\n",
    "    lon_min, lon_max = (-5, 5)\n",
    "    lat_min, lat_max = (-5, 5)\n",
    "    lon = (np.random.random(num_points) * (lon_max - lon_min) + lon_min) * u.deg\n",
    "    lat = (np.random.random(num_points) * (lat_max - lat_min) + lat_min) * u.deg\n",
    "    \n",
    "    vertices = np.vstack((lon.to_value(), lat.to_value())).T\n",
    "    return vertices\n",
    "\n",
    "def generate_concave_polygon(num_points, lon_offset, lat_offset):\n",
    "    delta_ang = (2 * np.pi) / num_points\n",
    "    radius_max = 10\n",
    "    \n",
    "    angles = np.linspace(0, 2 * np.pi, num_points)\n",
    "    radius = np.random.random(angles.shape[0]) * radius_max\n",
    "    \n",
    "    lon = (np.cos(angles) * radius + lon_offset) * u.deg\n",
    "    lat = (np.sin(angles) * radius + lat_offset) * u.deg\n",
    "    \n",
    "    vertices = np.vstack((lon.to_value(), lat.to_value())).T\n",
    "    return vertices\n",
    "\n",
    "def generate_convexe_polygon(num_points, lon_offset, lat_offset):\n",
    "    delta_ang = (2 * np.pi) / num_points\n",
    "    radius_max = 10\n",
    "    \n",
    "    angles = np.linspace(0, 2 * np.pi, num_points)\n",
    "    radius = np.random.random() * radius_max * np.ones(angles.shape[0])\n",
    "    \n",
    "    lon = (np.cos(angles) * radius + lon_offset) * u.deg\n",
    "    lat = (np.sin(angles) * radius + lat_offset) * u.deg\n",
    "    \n",
    "    vertices = np.vstack((lon.to_value(), lat.to_value())).T\n",
    "    return vertices\n",
    "\n",
    "#vertices = generate_convexe_polygon(20, 10, 5)\n",
    "vertices = generate_concave_polygon(20, 10, 5)\n",
    "skycoord = SkyCoord(vertices, unit=\"deg\", frame=\"icrs\")"
   ]
  },
  {
   "cell_type": "code",
   "execution_count": null,
   "metadata": {},
   "outputs": [],
   "source": [
    "def plot(moc, skycoord):\n",
    "    from matplotlib import path, patches\n",
    "    import matplotlib.pyplot as plt\n",
    "\n",
    "    # MOCPy offers a way to easily create an `astropy.wcs.WCS` object.\n",
    "    # This define an ICRS aitoff projection.\n",
    "    fig = plt.figure(figsize=(10, 10))\n",
    "    from mocpy import WCS\n",
    "\n",
    "    from astropy.coordinates import Angle\n",
    "    with WCS(fig, \n",
    "             fov=20 * u.deg,\n",
    "             center=SkyCoord(10, 5, unit='deg', frame='icrs'),\n",
    "             coordsys=\"icrs\",\n",
    "             rotation=Angle(0, u.degree),\n",
    "             projection=\"TAN\") as wcs:\n",
    "        ax = fig.add_subplot(1, 1, 1, projection=wcs)\n",
    "\n",
    "        moc.fill(ax=ax, wcs=wcs, edgecolor='r', facecolor='r', linewidth=1.0, fill=True, alpha=0.5)\n",
    "\n",
    "        from astropy.wcs.utils import skycoord_to_pixel\n",
    "        x, y = skycoord_to_pixel(skycoord, wcs)\n",
    "        p = path.Path(np.vstack((x, y)).T)\n",
    "        patch = patches.PathPatch(p, facecolor='orange', alpha=0.25, lw=2)\n",
    "        ax.add_patch(patch)\n",
    "    \n",
    "    plt.axis(\"equal\")\n",
    "    plt.xlabel('ra')\n",
    "    plt.ylabel('dec')\n",
    "    plt.grid(color='black', ls='dotted')\n",
    "    plt.title('from polygon')\n",
    "    plt.show()\n",
    "    plt.close()"
   ]
  },
  {
   "cell_type": "code",
   "execution_count": null,
   "metadata": {},
   "outputs": [],
   "source": [
    "# Convert the vertices to lon and lat astropy quantities\n",
    "lon, lat = vertices[:, 0] * u.deg, vertices[:, 1] * u.deg\n",
    "\n",
    "# Define a vertex that is said to belongs to the MOC.\n",
    "# It is important as there is no way on the sphere to know the area from\n",
    "# which we want to build the MOC (a set of vertices delimits two finite areas).\n",
    "inside = SkyCoord(ra=10, dec=5, unit=\"deg\", frame=\"icrs\")\n",
    "%time moc = MOC.from_polygon(lon=lon, lat=lat, max_depth=9, inside=inside)\n",
    "plot(moc, skycoord)"
   ]
  },
  {
   "cell_type": "code",
   "execution_count": null,
   "metadata": {},
   "outputs": [],
   "source": []
  },
  {
   "cell_type": "code",
   "execution_count": null,
   "metadata": {},
   "outputs": [],
   "source": []
  }
 ],
 "metadata": {
  "kernelspec": {
   "display_name": "Python 3",
   "language": "python",
   "name": "python3"
  },
  "language_info": {
   "codemirror_mode": {
    "name": "ipython",
    "version": 3
   },
   "file_extension": ".py",
   "mimetype": "text/x-python",
   "name": "python",
   "nbconvert_exporter": "python",
   "pygments_lexer": "ipython3",
   "version": "3.6.7"
  }
 },
 "nbformat": 4,
 "nbformat_minor": 2
}
