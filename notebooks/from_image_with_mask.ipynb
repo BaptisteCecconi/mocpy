{
 "cells": [
  {
   "cell_type": "code",
   "execution_count": null,
   "metadata": {},
   "outputs": [],
   "source": [
    "%matplotlib inline\n",
    "from mocpy import MOC\n",
    "from astropy.io import fits\n",
    "from astropy import wcs"
   ]
  },
  {
   "cell_type": "code",
   "execution_count": null,
   "metadata": {},
   "outputs": [],
   "source": [
    "image_path = 'demo-data/image_with_mask.fits.gz'\n",
    "\n",
    "with fits.open(image_path) as hdulist:\n",
    "    moc = MOC.from_image(header=hdulist[0].header,\n",
    "                         max_norder=10,\n",
    "                         mask_arr=hdulist[0].data)\n",
    "    wcs = wcs.WCS(hdulist[0].header)"
   ]
  },
  {
   "cell_type": "code",
   "execution_count": null,
   "metadata": {},
   "outputs": [],
   "source": [
    "# A function creating all the matplotlib context for plotting a MOC with its perimeter\n",
    "def plot(moc, wcs, title=''):\n",
    "    import matplotlib.pyplot as plt\n",
    "    fig, ax = plt.subplots(1, 1, figsize=(15, 15), subplot_kw={\"projection\": wcs})\n",
    "    moc.fill(ax=ax, wcs=wcs, alpha=0.5, fill=True, color='r')\n",
    "    moc.perimeter(ax=ax, wcs=wcs, color='g')\n",
    "\n",
    "    plt.axis('equal')\n",
    "    plt.xlabel('ra')\n",
    "    plt.ylabel('dec')\n",
    "    if title:\n",
    "        plt.title(title)\n",
    "    plt.grid(color=\"black\", linestyle=\"dotted\")\n",
    "    plt.show()\n",
    "\n",
    "plot(moc=moc, wcs=wcs, title='MOC from file with a mask')"
   ]
  }
 ],
 "metadata": {
  "kernelspec": {
   "display_name": "Python 3",
   "language": "python",
   "name": "python3"
  },
  "language_info": {
   "codemirror_mode": {
    "name": "ipython",
    "version": 3
   },
   "file_extension": ".py",
   "mimetype": "text/x-python",
   "name": "python",
   "nbconvert_exporter": "python",
   "pygments_lexer": "ipython3",
   "version": "3.5.2"
  }
 },
 "nbformat": 4,
 "nbformat_minor": 2
}
