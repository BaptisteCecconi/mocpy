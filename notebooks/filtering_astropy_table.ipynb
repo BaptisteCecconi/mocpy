{
 "cells": [
  {
   "cell_type": "code",
   "execution_count": null,
   "metadata": {},
   "outputs": [],
   "source": [
    "%matplotlib inline"
   ]
  },
  {
   "cell_type": "code",
   "execution_count": null,
   "metadata": {},
   "outputs": [],
   "source": [
    "import warnings \n",
    "warnings.filterwarnings('ignore')\n",
    "from mocpy import MOC"
   ]
  },
  {
   "cell_type": "code",
   "execution_count": null,
   "metadata": {},
   "outputs": [],
   "source": [
    "from astroquery.vizier import Vizier\n",
    "\n",
    "viz = Vizier(columns=['*', '_RAJ2000', '_DEJ2000'])\n",
    "viz.ROW_LIMIT = -1\n",
    "table = viz.get_catalogs('I/293/npm2cros')[0]"
   ]
  },
  {
   "cell_type": "code",
   "execution_count": null,
   "metadata": {},
   "outputs": [],
   "source": [
    "moc = MOC.from_fits('demo-data/P-GALEXGR6-AIS-FUV.fits')\n",
    "moc.plot()\n"
   ]
  },
  {
   "cell_type": "code",
   "execution_count": null,
   "metadata": {},
   "outputs": [],
   "source": [
    "print(table)"
   ]
  },
  {
   "cell_type": "code",
   "execution_count": null,
   "metadata": {},
   "outputs": [],
   "source": [
    "indexes = moc.contains(table['_RAJ2000'], table['_DEJ2000'])\n",
    "filtered_table = table[indexes]\n",
    "print(filtered_table)"
   ]
  },
  {
   "cell_type": "code",
   "execution_count": null,
   "metadata": {},
   "outputs": [],
   "source": [
    "from astropy.coordinates import Galactic\n",
    "\n",
    "m1 = MOC.from_lonlat(table['_RAJ2000'], table['_DEJ2000'], 6)\n",
    "m2 = MOC.from_lonlat(filtered_table['_RAJ2000'], filtered_table['_DEJ2000'], 6)\n",
    "\n",
    "m1.plot(frame=Galactic())\n",
    "m2.plot(frame=Galactic())"
   ]
  },
  {
   "cell_type": "code",
   "execution_count": null,
   "metadata": {},
   "outputs": [],
   "source": []
  }
 ],
 "metadata": {
  "kernelspec": {
   "display_name": "Python 3",
   "language": "python",
   "name": "python3"
  },
  "language_info": {
   "codemirror_mode": {
    "name": "ipython",
    "version": 3
   },
   "file_extension": ".py",
   "mimetype": "text/x-python",
   "name": "python",
   "nbconvert_exporter": "python",
   "pygments_lexer": "ipython3",
   "version": "3.5.5"
  }
 },
 "nbformat": 4,
 "nbformat_minor": 1
}
