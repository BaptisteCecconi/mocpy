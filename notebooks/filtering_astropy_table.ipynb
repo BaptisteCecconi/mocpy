{
 "cells": [
  {
   "cell_type": "code",
   "execution_count": null,
   "metadata": {},
   "outputs": [],
   "source": [
    "%matplotlib inline"
   ]
  },
  {
   "cell_type": "code",
   "execution_count": null,
   "metadata": {},
   "outputs": [],
   "source": [
    "import warnings \n",
    "warnings.filterwarnings('ignore')\n",
    "from mocpy import MOC"
   ]
  },
  {
   "cell_type": "code",
   "execution_count": null,
   "metadata": {},
   "outputs": [],
   "source": [
    "from astroquery.vizier import Vizier\n",
    "\n",
    "viz = Vizier(columns=['*', '_RAJ2000', '_DEJ2000'])\n",
    "viz.ROW_LIMIT = -1\n",
    "table = viz.get_catalogs('I/293/npm2cros')[0]"
   ]
  },
  {
   "cell_type": "code",
   "execution_count": null,
   "metadata": {},
   "outputs": [],
   "source": [
    "galex = MOC.from_fits('demo-data/P-GALEXGR6-AIS-FUV.fits')"
   ]
  },
  {
   "cell_type": "code",
   "execution_count": null,
   "metadata": {
    "scrolled": false
   },
   "outputs": [],
   "source": [
    "from mocpy.spatial.utils import make_wcs\n",
    "\n",
    "# A function creating all the matplotlib context for plotting a MOC with its perimeter\n",
    "def plot(moc, wcs, title=''):\n",
    "    import matplotlib.pyplot as plt\n",
    "    fig, ax = plt.subplots(1, 1, figsize=(15, 15), subplot_kw={\"projection\": wcs})\n",
    "    moc.fill(ax=ax, wcs=wcs, alpha=0.5, fill=True, color='r')\n",
    "    moc.perimeter(ax=ax, wcs=wcs, color='g')\n",
    "\n",
    "    plt.axis('equal')\n",
    "    plt.xlabel('ra')\n",
    "    plt.ylabel('dec')\n",
    "    if title:\n",
    "        plt.title(title)\n",
    "    plt.grid(color=\"black\", linestyle=\"dotted\")\n",
    "    plt.show()\n",
    "    \n",
    "wcs_icrs = make_wcs(crpix=[0, 0], crval=[0, 0], cdelt=[-5, 5], ctype=[\"RA---AIT\", \"DEC--AIT\"])\n",
    "plot(moc=galex, wcs=wcs_icrs, title='P-GALEXGR6-AIS-FUV')"
   ]
  },
  {
   "cell_type": "code",
   "execution_count": null,
   "metadata": {},
   "outputs": [],
   "source": [
    "print(table)"
   ]
  },
  {
   "cell_type": "code",
   "execution_count": null,
   "metadata": {},
   "outputs": [],
   "source": [
    "indexes = galex.contains(table['_RAJ2000'], table['_DEJ2000'])\n",
    "filtered_table = table[indexes]\n",
    "print(filtered_table)"
   ]
  },
  {
   "cell_type": "code",
   "execution_count": null,
   "metadata": {},
   "outputs": [],
   "source": [
    "from astropy.coordinates import Galactic\n",
    "\n",
    "m1 = MOC.from_lonlat(table['_RAJ2000'], table['_DEJ2000'], 6)\n",
    "m2 = MOC.from_lonlat(filtered_table['_RAJ2000'], filtered_table['_DEJ2000'], 6)\n",
    "\n",
    "wcs_galactic = make_wcs(crpix=[0, 0], crval=[0, 0], cdelt=[-5, 5], ctype=[\"GLON-AIT\", \"GLAT-AIT\"])\n",
    "plot(moc=m1, wcs=wcs_galactic, title=\"MOC from table\")\n",
    "plot(moc=m2, wcs=wcs_galactic, title=\"MOC from filtered table\")"
   ]
  }
 ],
 "metadata": {
  "kernelspec": {
   "display_name": "Python 3",
   "language": "python",
   "name": "python3"
  },
  "language_info": {
   "codemirror_mode": {
    "name": "ipython",
    "version": 3
   },
   "file_extension": ".py",
   "mimetype": "text/x-python",
   "name": "python",
   "nbconvert_exporter": "python",
   "pygments_lexer": "ipython3",
   "version": "3.5.2"
  }
 },
 "nbformat": 4,
 "nbformat_minor": 1
}
