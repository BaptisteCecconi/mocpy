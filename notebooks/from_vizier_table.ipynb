{
 "cells": [
  {
   "cell_type": "code",
   "execution_count": null,
   "metadata": {},
   "outputs": [],
   "source": [
    "%matplotlib inline\n",
    "\n",
    "from mocpy import MOC"
   ]
  },
  {
   "cell_type": "code",
   "execution_count": null,
   "metadata": {},
   "outputs": [],
   "source": [
    "m1 = MOC.from_vizier_table('VI/137/gum_qso', nside=512)\n",
    "# Plot \n",
    "def plot(moc, wcs, title=''):\n",
    "    import matplotlib.pyplot as plt\n",
    "    fig, ax = plt.subplots(1, 1, figsize=(15, 15), subplot_kw={\"projection\": wcs})\n",
    "    moc.fill(ax=ax, wcs=wcs, alpha=0.5, fill=True, color='r')\n",
    "\n",
    "    plt.axis('equal')\n",
    "    plt.xlabel('ra')\n",
    "    plt.ylabel('dec')\n",
    "    if title:\n",
    "        plt.title(title)\n",
    "    plt.grid(color=\"black\", linestyle=\"dotted\")\n",
    "    plt.show()\n",
    "\n",
    "# Init a celestial WCS \n",
    "from mocpy.spatial.utils import make_wcs\n",
    "wcs_icrs = make_wcs(crpix=[0, 0], crval=[0, 0], cdelt=[-5, 5], ctype=[\"RA---AIT\", \"DEC--AIT\"])"
   ]
  },
  {
   "cell_type": "code",
   "execution_count": null,
   "metadata": {},
   "outputs": [],
   "source": [
    "plot(moc=m1, wcs=wcs_icrs, title='VI/137/gum_qso')"
   ]
  },
  {
   "cell_type": "code",
   "execution_count": null,
   "metadata": {},
   "outputs": [],
   "source": [
    "m2 = MOC.from_ivorn('ivo://CDS/B/denis/denis', nside=64)\n",
    "plot(moc=m2, wcs=wcs_icrs, title='ivo://CDS/B/denis/denis')"
   ]
  }
 ],
 "metadata": {
  "kernelspec": {
   "display_name": "Python 3",
   "language": "python",
   "name": "python3"
  },
  "language_info": {
   "codemirror_mode": {
    "name": "ipython",
    "version": 3
   },
   "file_extension": ".py",
   "mimetype": "text/x-python",
   "name": "python",
   "nbconvert_exporter": "python",
   "pygments_lexer": "ipython3",
   "version": "3.5.2"
  }
 },
 "nbformat": 4,
 "nbformat_minor": 1
}
