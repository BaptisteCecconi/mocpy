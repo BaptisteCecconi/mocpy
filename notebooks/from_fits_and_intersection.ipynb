{
 "cells": [
  {
   "cell_type": "code",
   "execution_count": null,
   "metadata": {},
   "outputs": [],
   "source": [
    "%matplotlib inline"
   ]
  },
  {
   "cell_type": "markdown",
   "metadata": {},
   "source": [
    "Let's start by loading a local MOC and plotting it"
   ]
  },
  {
   "cell_type": "code",
   "execution_count": null,
   "metadata": {
    "scrolled": true
   },
   "outputs": [],
   "source": [
    "from mocpy import MOC\n",
    "\n",
    "m1 = MOC.from_fits('demo-data/P-SDSS9-r.fits')"
   ]
  },
  {
   "cell_type": "markdown",
   "metadata": {},
   "source": [
    "Now, we load MOC for GALEX GR6 AIS FUV:"
   ]
  },
  {
   "cell_type": "code",
   "execution_count": null,
   "metadata": {},
   "outputs": [],
   "source": [
    "m2 = MOC.from_fits('demo-data/P-GALEXGR6-AIS-FUV.fits')"
   ]
  },
  {
   "cell_type": "code",
   "execution_count": null,
   "metadata": {},
   "outputs": [],
   "source": [
    "# A function creating all the matplotlib context for plotting a stack of several MOCs on the same projection\n",
    "def plot(mocs, wcs, colors, title=''):\n",
    "    import matplotlib.pyplot as plt\n",
    "    fig, ax = plt.subplots(1, 1, figsize=(15, 15), subplot_kw={\"projection\": wcs})\n",
    "    # Add all the MOC to the view\n",
    "    for i in range(len(mocs)):\n",
    "        mocs[i].fill(ax=ax, wcs=wcs, alpha=0.5, fill=True, color=colors[i])\n",
    "        mocs[i].perimeter(ax=ax, wcs=wcs, color='g')\n",
    "\n",
    "    plt.axis('equal')\n",
    "    plt.xlabel('ra')\n",
    "    plt.ylabel('dec')\n",
    "    if title:\n",
    "        plt.title(title)\n",
    "    plt.grid(color=\"black\", linestyle=\"dotted\")\n",
    "    plt.show()"
   ]
  },
  {
   "cell_type": "code",
   "execution_count": null,
   "metadata": {},
   "outputs": [],
   "source": [
    "# Init a simple WCS\n",
    "from mocpy.spatial.utils import make_wcs\n",
    "wcs_icrs = make_wcs(crpix=[0, 0], crval=[0, 0], cdelt=[-5, 5], ctype=[\"RA---AIT\", \"DEC--AIT\"])"
   ]
  },
  {
   "cell_type": "code",
   "execution_count": null,
   "metadata": {},
   "outputs": [],
   "source": [
    "plot(mocs=[m2, m1], wcs=wcs_icrs, colors=['r', 'dodgerblue'], title=\"P-GALEXGR6-AIS-FUV and P-SDSS9-r\")"
   ]
  },
  {
   "cell_type": "markdown",
   "metadata": {},
   "source": [
    "We can compute the intersection between the 2 MOC:"
   ]
  },
  {
   "cell_type": "code",
   "execution_count": null,
   "metadata": {},
   "outputs": [],
   "source": [
    "m_intersect = m1.intersection(m2)\n",
    "\n",
    "plot(mocs=[m_intersect], wcs=wcs_icrs, colors=['g'], title=\"P-GALEXGR6-AIS-FUV inter P-SDSS9-r\")"
   ]
  },
  {
   "cell_type": "markdown",
   "metadata": {},
   "source": [
    "And serialize it to FITS (official serialization):"
   ]
  },
  {
   "cell_type": "code",
   "execution_count": null,
   "metadata": {},
   "outputs": [],
   "source": [
    "hdulist = m_intersect.serialize(format='json')\n",
    "hdulist"
   ]
  },
  {
   "cell_type": "markdown",
   "metadata": {},
   "source": [
    "MOC can also be serialized in JSON:\n",
    "```python\n",
    "m_intersect.write(format='json')\n",
    "```"
   ]
  },
  {
   "cell_type": "markdown",
   "metadata": {},
   "source": [
    "Or write it directly to a FITS/JSON file:\n",
    "```python\n",
    "m_intersect.write(path=<filename>, write_to_file=True, format='json'/'fits')\n",
    "```"
   ]
  }
 ],
 "metadata": {
  "kernelspec": {
   "display_name": "Python 3",
   "language": "python",
   "name": "python3"
  },
  "language_info": {
   "codemirror_mode": {
    "name": "ipython",
    "version": 3
   },
   "file_extension": ".py",
   "mimetype": "text/x-python",
   "name": "python",
   "nbconvert_exporter": "python",
   "pygments_lexer": "ipython3",
   "version": "3.5.2"
  }
 },
 "nbformat": 4,
 "nbformat_minor": 1
}
