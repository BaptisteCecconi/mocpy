{
 "cells": [
  {
   "cell_type": "code",
   "execution_count": null,
   "metadata": {},
   "outputs": [],
   "source": [
    "%matplotlib inline\n",
    "from mocpy import MOC\n",
    "from mocpy import make_wcs\n",
    "\n",
    "from astropy.wcs.utils import skycoord_to_pixel\n",
    "\n",
    "from matplotlib.path import Path\n",
    "from matplotlib.patches import PathPatch"
   ]
  },
  {
   "cell_type": "code",
   "execution_count": null,
   "metadata": {},
   "outputs": [],
   "source": [
    "order = 6\n",
    "\n",
    "fits_path = 'demo-data/P-GALEXGR6-AIS-FUV.fits'\n",
    "moc = MOC.from_fits(fits_path)\n",
    "moc = moc.degrade_to_order(order)"
   ]
  },
  {
   "cell_type": "code",
   "execution_count": null,
   "metadata": {},
   "outputs": [],
   "source": [
    "# Computing time is related to the number of ipixels located in borders of the MOC.\n",
    "# GALEX has a lot of holes and therefore there are a lot of ipixels lying in its border.\n",
    "# It's especially true for deeper orders.\n",
    "\n",
    "# The step taking the most of time is the construction of the graph from the coordinates of the ipixels\n",
    "# lying in the border of all the dissociated MOC components.\n",
    "\n",
    "# For the purpose of the demo we reduce the order of GALEX from 8 to 6\n",
    "%time boundaries_l = moc.get_boundaries()"
   ]
  },
  {
   "cell_type": "code",
   "execution_count": null,
   "metadata": {},
   "outputs": [],
   "source": [
    "def get_cmap(n, name='hsv'):\n",
    "    '''Returns a function that maps each index in 0, 1, ..., n-1 to a distinct \n",
    "    RGB color; the keyword argument name must be a standard mpl colormap name.'''\n",
    "    return plt.cm.get_cmap(name, n)\n",
    "\n",
    "def add_patch_path(ax, wcs, coords, **kw_mpl_pathpatch):\n",
    "    xp, yp = skycoord_to_pixel(coords=coords, wcs=wcs)\n",
    "    xp = xp.flatten()\n",
    "    yp = yp.flatten()\n",
    "    codes = np.ones(shape=(xp.shape[0]+1,))*Path.LINETO\n",
    "    codes[0] = Path.MOVETO\n",
    "    codes[-1] = Path.CLOSEPOLY\n",
    "\n",
    "    vertices = np.vstack((xp, yp)).T.tolist()\n",
    "    vertices.append(vertices[0])\n",
    "\n",
    "    path = Path(vertices, codes)\n",
    "\n",
    "    patch = PathPatch(path, **kw_mpl_pathpatch)\n",
    "    ax.add_patch(patch)"
   ]
  },
  {
   "cell_type": "code",
   "execution_count": null,
   "metadata": {},
   "outputs": [],
   "source": [
    "import matplotlib.pyplot as plt\n",
    "import numpy as np\n",
    "wcs = make_wcs(crpix=[0, 0], crval=[0, 0], cdelt=[-5, 5], ctype=['RA---AIT', 'DEC--AIT'])\n",
    "fig, ax = plt.subplots(1, 1, figsize=(15,15), subplot_kw={\"projection\": wcs})\n",
    "\n",
    "moc.fill(ax=ax, wcs=wcs, alpha=0.5, fill=True, color='r')\n",
    "# Draw the borders, each plotted in a different color.\n",
    "cmap = get_cmap(100)\n",
    "for border_coords in boundaries_l:\n",
    "    add_patch_path(ax=ax, wcs=wcs, coords=border_coords,\n",
    "                   fill=False, color=cmap(np.random.randint(100)))\n",
    "\n",
    "plt.axis('equal')\n",
    "plt.xlabel('ra')\n",
    "plt.ylabel('dec')\n",
    "plt.title('P-GALEXGR6-AIS-FUV with all its borders')\n",
    "plt.grid(True)\n",
    "# The lines cutting the MOC are borders passing from the extreme east to the extreme west of the projection\n",
    "plt.show()"
   ]
  }
 ],
 "metadata": {
  "kernelspec": {
   "display_name": "Python 3",
   "language": "python",
   "name": "python3"
  },
  "language_info": {
   "codemirror_mode": {
    "name": "ipython",
    "version": 3
   },
   "file_extension": ".py",
   "mimetype": "text/x-python",
   "name": "python",
   "nbconvert_exporter": "python",
   "pygments_lexer": "ipython3",
   "version": "3.5.2"
  }
 },
 "nbformat": 4,
 "nbformat_minor": 2
}
