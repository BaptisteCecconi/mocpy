{
 "cells": [
  {
   "cell_type": "markdown",
   "metadata": {},
   "source": [
    "*Creating a MOC from a set of coordinates*"
   ]
  },
  {
   "cell_type": "code",
   "execution_count": null,
   "metadata": {},
   "outputs": [],
   "source": [
    "%matplotlib inline"
   ]
  },
  {
   "cell_type": "code",
   "execution_count": null,
   "metadata": {},
   "outputs": [],
   "source": [
    "import warnings \n",
    "warnings.filterwarnings('ignore')\n",
    "from mocpy import MOC"
   ]
  },
  {
   "cell_type": "markdown",
   "metadata": {},
   "source": [
    "Let's load a VizieR catalog"
   ]
  },
  {
   "cell_type": "code",
   "execution_count": null,
   "metadata": {},
   "outputs": [],
   "source": [
    "from astroquery.vizier import Vizier\n",
    "\n",
    "viz = Vizier(columns=['*', '_RAJ2000', '_DEJ2000'])\n",
    "viz.ROW_LIMIT = -1\n",
    "table = viz.get_catalogs('I/293/npm2cros')[0]\n",
    "\n",
    "print(table)"
   ]
  },
  {
   "cell_type": "markdown",
   "metadata": {},
   "source": [
    "Let's create a MOC from the coordinates of this table"
   ]
  },
  {
   "cell_type": "code",
   "execution_count": null,
   "metadata": {},
   "outputs": [],
   "source": [
    "moc = MOC.from_lonlat(table['_RAJ2000'], table['_DEJ2000'], 6)\n",
    "\n",
    "# A function creating all the matplotlib context for plotting a MOC with its perimeter\n",
    "def plot(moc, wcs, title=''):\n",
    "    import matplotlib.pyplot as plt\n",
    "    fig, ax = plt.subplots(1, 1, figsize=(15, 15), subplot_kw={\"projection\": wcs})\n",
    "    moc.fill(ax=ax, wcs=wcs, alpha=0.5, fill=True, color='r')\n",
    "    moc.perimeter(ax=ax, wcs=wcs, color='g')\n",
    "\n",
    "    plt.axis('equal')\n",
    "    plt.xlabel('ra')\n",
    "    plt.ylabel('dec')\n",
    "    if title:\n",
    "        plt.title(title)\n",
    "    plt.grid(color=\"black\", linestyle=\"dotted\")\n",
    "    plt.show()\n",
    "\n",
    "from mocpy.spatial.utils import make_wcs\n",
    "wcs_galactic = make_wcs(crpix=[0, 0], crval=[0, 0], cdelt=[-5, 5], ctype=[\"GLON-AIT\", \"GLAT-AIT\"])\n",
    "\n",
    "plot(moc=moc, wcs=wcs_galactic, title='I/293/npm2cros')"
   ]
  }
 ],
 "metadata": {
  "kernelspec": {
   "display_name": "Python 3",
   "language": "python",
   "name": "python3"
  },
  "language_info": {
   "codemirror_mode": {
    "name": "ipython",
    "version": 3
   },
   "file_extension": ".py",
   "mimetype": "text/x-python",
   "name": "python",
   "nbconvert_exporter": "python",
   "pygments_lexer": "ipython3",
   "version": "3.5.2"
  }
 },
 "nbformat": 4,
 "nbformat_minor": 1
}
