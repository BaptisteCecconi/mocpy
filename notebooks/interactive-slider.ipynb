{
 "cells": [
  {
   "cell_type": "code",
   "execution_count": 78,
   "metadata": {},
   "outputs": [
    {
     "data": {
      "text/html": [
       "<i>Table length=4879128</i>\n",
       "<table id=\"table43847451480\" class=\"table-striped table-bordered table-condensed\">\n",
       "<thead><tr><th>ra</th><th>dec</th><th>mjd</th></tr></thead>\n",
       "<thead><tr><th>deg</th><th>deg</th><th></th></tr></thead>\n",
       "<thead><tr><th>float32</th><th>float32</th><th>int32</th></tr></thead>\n",
       "<tr><td>112.29972</td><td>-17.323175</td><td>51201</td></tr>\n",
       "<tr><td>112.547806</td><td>-16.784193</td><td>51201</td></tr>\n",
       "<tr><td>112.54784</td><td>-16.51475</td><td>51201</td></tr>\n",
       "<tr><td>112.052956</td><td>-16.784231</td><td>51201</td></tr>\n",
       "<tr><td>112.54784</td><td>-16.51475</td><td>51201</td></tr>\n",
       "<tr><td>112.42324</td><td>-17.109888</td><td>51201</td></tr>\n",
       "<tr><td>111.928665</td><td>-17.379503</td><td>51201</td></tr>\n",
       "<tr><td>111.69493</td><td>-18.473375</td><td>51215</td></tr>\n",
       "<tr><td>113.416046</td><td>-16.310276</td><td>50891</td></tr>\n",
       "<tr><td>...</td><td>...</td><td>...</td></tr>\n",
       "<tr><td>277.2293</td><td>14.957615</td><td>51686</td></tr>\n",
       "<tr><td>286.5186</td><td>1.6971233</td><td>51401</td></tr>\n",
       "<tr><td>285.2242</td><td>6.1357846</td><td>51393</td></tr>\n",
       "<tr><td>283.8839</td><td>9.044751</td><td>51391</td></tr>\n",
       "<tr><td>281.2066</td><td>12.009319</td><td>51399</td></tr>\n",
       "<tr><td>286.0379</td><td>4.122701</td><td>51401</td></tr>\n",
       "<tr><td>270.78375</td><td>16.51846</td><td>51685</td></tr>\n",
       "<tr><td>284.00473</td><td>8.83091</td><td>51391</td></tr>\n",
       "<tr><td>271.02942</td><td>16.30678</td><td>51467</td></tr>\n",
       "<tr><td>275.86618</td><td>15.495936</td><td>51677</td></tr>\n",
       "</table>"
      ],
      "text/plain": [
       "<Table length=4879128>\n",
       "    ra        dec      mjd \n",
       "   deg        deg          \n",
       " float32    float32   int32\n",
       "---------- ---------- -----\n",
       " 112.29972 -17.323175 51201\n",
       "112.547806 -16.784193 51201\n",
       " 112.54784  -16.51475 51201\n",
       "112.052956 -16.784231 51201\n",
       " 112.54784  -16.51475 51201\n",
       " 112.42324 -17.109888 51201\n",
       "111.928665 -17.379503 51201\n",
       " 111.69493 -18.473375 51215\n",
       "113.416046 -16.310276 50891\n",
       "       ...        ...   ...\n",
       "  277.2293  14.957615 51686\n",
       "  286.5186  1.6971233 51401\n",
       "  285.2242  6.1357846 51393\n",
       "  283.8839   9.044751 51391\n",
       "  281.2066  12.009319 51399\n",
       "  286.0379   4.122701 51401\n",
       " 270.78375   16.51846 51685\n",
       " 284.00473    8.83091 51391\n",
       " 271.02942   16.30678 51467\n",
       " 275.86618  15.495936 51677"
      ]
     },
     "execution_count": 78,
     "metadata": {},
     "output_type": "execute_result"
    }
   ],
   "source": [
    "%matplotlib inline\n",
    "import matplotlib.pyplot as plt\n",
    "from mocpy import MOC, WCS\n",
    "import numpy as np\n",
    "from astropy import units as u\n",
    "from astropy.table import Table\n",
    "from astropy.coordinates import Angle, SkyCoord\n",
    "import ipywidgets as widgets\n",
    "\n",
    "t = Table.read('2MASS-list-images.fits.gz', format='fits')\n",
    "t"
   ]
  },
  {
   "cell_type": "code",
   "execution_count": 88,
   "metadata": {},
   "outputs": [],
   "source": [
    "output = widgets.Output()\n",
    "\n",
    "def update_plot(change):\n",
    "\n",
    "    global t, output, time_slider\n",
    "    output.clear_output(wait=True)\n",
    "    \n",
    "    if change is None:\n",
    "        new_values = time_slider.value\n",
    "    else:\n",
    "        new_values = change.new\n",
    "    selection = np.where((t['mjd']>=new_values[0]) & (t['mjd']<=new_values[1]))\n",
    "    moc = MOC.from_lonlat(t['ra'][selection], t['dec'][selection], max_norder=7)\n",
    "    \n",
    "    \n",
    "\n",
    "    with output:\n",
    "        fig = plt.figure(111, figsize=(15, 10))\n",
    "        \n",
    "        with WCS(fig, \n",
    "                 fov=310 * u.deg,\n",
    "                 center=SkyCoord(0, 0, unit='deg', frame='galactic'),\n",
    "                 coordsys=\"galactic\",\n",
    "                 rotation=Angle(0, u.degree),\n",
    "                 projection=\"AIT\") as wcs:\n",
    "            ax = fig.add_subplot(1, 1, 1, projection=wcs)\n",
    "            # Call fill with a matplotlib axe and the `~astropy.wcs.WCS` wcs object.\n",
    "            moc.fill(ax=ax, wcs=wcs, alpha=0.5, fill=True, color=\"orange\")\n",
    "#            moc.border(ax=ax, wcs=wcs, alpha=0.5, color=\"black\")\n",
    "        \n",
    "        plt.xlabel('GLON')\n",
    "        plt.ylabel('GLAT')\n",
    "        plt.title('Coverage of 2MASS images between MJD %d and %d' % (new_values[0], new_values[1]))\n",
    "        plt.grid(color=\"black\", linestyle=\"dotted\")\n",
    "        plt.show()"
   ]
  },
  {
   "cell_type": "code",
   "execution_count": 86,
   "metadata": {},
   "outputs": [],
   "source": [
    "min_time = int(np.min(t['mjd']))-1\n",
    "max_time = int(np.max(t['mjd']))+1\n",
    "\n",
    "time_slider = widgets.IntRangeSlider(\n",
    "    value=[min_time, min_time+50],\n",
    "    min=min_time,\n",
    "    max=max_time,\n",
    "    step=1,\n",
    "    description='MJD interval:',\n",
    "    disabled=False,\n",
    "    continuous_update=False,\n",
    "    orientation='horizontal',\n",
    "    layout={'width': '90%'}\n",
    ")"
   ]
  },
  {
   "cell_type": "code",
   "execution_count": 87,
   "metadata": {
    "scrolled": false
   },
   "outputs": [
    {
     "name": "stdout",
     "output_type": "stream",
     "text": [
      "done\n"
     ]
    },
    {
     "data": {
      "application/vnd.jupyter.widget-view+json": {
       "model_id": "2e70a63826b843009d8692f6fd072481",
       "version_major": 2,
       "version_minor": 0
      },
      "text/html": [
       "<p>Failed to display Jupyter Widget of type <code>VBox</code>.</p>\n",
       "<p>\n",
       "  If you're reading this message in the Jupyter Notebook or JupyterLab Notebook, it may mean\n",
       "  that the widgets JavaScript is still loading. If this message persists, it\n",
       "  likely means that the widgets JavaScript library is either not installed or\n",
       "  not enabled. See the <a href=\"https://ipywidgets.readthedocs.io/en/stable/user_install.html\">Jupyter\n",
       "  Widgets Documentation</a> for setup instructions.\n",
       "</p>\n",
       "<p>\n",
       "  If you're reading this message in another frontend (for example, a static\n",
       "  rendering on GitHub or <a href=\"https://nbviewer.jupyter.org/\">NBViewer</a>),\n",
       "  it may mean that your frontend doesn't currently support widgets.\n",
       "</p>\n"
      ],
      "text/plain": [
       "VBox(children=(IntRangeSlider(value=(50605, 50655), continuous_update=False, description='MJD interval:', layout=Layout(width='90%'), max=51956, min=50605), Output()))"
      ]
     },
     "metadata": {},
     "output_type": "display_data"
    },
    {
     "name": "stdout",
     "output_type": "stream",
     "text": [
      "done\n",
      "done\n",
      "done\n",
      "done\n"
     ]
    }
   ],
   "source": [
    "time_slider.observe(update_plot, 'value')\n",
    "update_plot(None)\n",
    "widgets.VBox([time_slider, output])\n",
    "\n"
   ]
  },
  {
   "cell_type": "code",
   "execution_count": 23,
   "metadata": {},
   "outputs": [],
   "source": []
  },
  {
   "cell_type": "code",
   "execution_count": null,
   "metadata": {},
   "outputs": [],
   "source": []
  }
 ],
 "metadata": {
  "kernelspec": {
   "display_name": "Python 3",
   "language": "python",
   "name": "python3"
  },
  "language_info": {
   "codemirror_mode": {
    "name": "ipython",
    "version": 3
   },
   "file_extension": ".py",
   "mimetype": "text/x-python",
   "name": "python",
   "nbconvert_exporter": "python",
   "pygments_lexer": "ipython3",
   "version": "3.6.6"
  }
 },
 "nbformat": 4,
 "nbformat_minor": 2
}
